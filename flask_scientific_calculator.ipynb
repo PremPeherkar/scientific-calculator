{
 "cells": [
  {
   "cell_type": "markdown",
   "id": "0673cc2d",
   "metadata": {},
   "source": [
    " #  **Final Project Report**\n",
    "\n",
    "**Title** : Web-Based Scientific Calculator Using Flask.\n",
    "\n",
    "**Submitted by** : Prem Sunil Peherkar\n"
   ]
  },
  {
   "cell_type": "markdown",
   "id": "f4e2fc24",
   "metadata": {},
   "source": [
    "### **Objectives**\n",
    "\n",
    "-This Jupyter notebook contains a complete Flask-based scientific calculator application. \n",
    "\n",
    "-It incudes designing and developing a scientific calculator  using Python's Flask framework.\n",
    "\n",
    "-It offers both standard and scientific operations including trigonometric, logarithmic, exponential, and arithmetic computations.\n",
    "\n",
    "-It features a keyboard-enabled interface secure evaluation of expressions and a responsive user-friendly layout—all running in the browser.\n",
    " \n",
    "\n",
    "#### **Tools & Technologies**\n",
    "\n",
    "| Tool/Technology | Purpose |\n",
    "|------------------|---------|\n",
    "| Python 3 | Programming language |\n",
    "| Flask | Lightweight web framework |\n",
    "| HTML/CSS | Frontend structure and styling |\n",
    "| JavaScript | Keyboard event handling |\n",
    "| Math module | Scientific calculations |\n",
    "\n"
   ]
  },
  {
   "cell_type": "markdown",
   "id": "e5297b2f",
   "metadata": {},
   "source": [
    "\n",
    "### **System Architecture**\n",
    "\n",
    " ### **Frontend**:\n",
    "- **HTML**: Layout and form structure\n",
    "- **CSS**: Styling of calculator UI\n",
    "- **JavaScript**: Captures keyboard events, handles 'Enter', 'Backspace'.\n",
    "\n",
    "### **Backend (Flask):**\n",
    "- Receives inputs from user\n",
    "- Securely evaluates expressions using a whitelisted environment\n",
    "- Returns the result back to be displayed on the calculator screen\n"
   ]
  },
  {
   "cell_type": "code",
   "execution_count": 1,
   "id": "96c85ee8",
   "metadata": {},
   "outputs": [
    {
     "name": "stdout",
     "output_type": "stream",
     "text": [
      "Defaulting to user installation because normal site-packages is not writeable\n",
      "Requirement already satisfied: flask in c:\\programdata\\anaconda3\\lib\\site-packages (3.0.3)\n",
      "Requirement already satisfied: Werkzeug>=3.0.0 in c:\\programdata\\anaconda3\\lib\\site-packages (from flask) (3.0.3)\n",
      "Requirement already satisfied: Jinja2>=3.1.2 in c:\\programdata\\anaconda3\\lib\\site-packages (from flask) (3.1.4)\n",
      "Requirement already satisfied: itsdangerous>=2.1.2 in c:\\programdata\\anaconda3\\lib\\site-packages (from flask) (2.2.0)\n",
      "Requirement already satisfied: click>=8.1.3 in c:\\programdata\\anaconda3\\lib\\site-packages (from flask) (8.1.7)\n",
      "Requirement already satisfied: blinker>=1.6.2 in c:\\programdata\\anaconda3\\lib\\site-packages (from flask) (1.6.2)\n",
      "Requirement already satisfied: colorama in c:\\programdata\\anaconda3\\lib\\site-packages (from click>=8.1.3->flask) (0.4.6)\n",
      "Requirement already satisfied: MarkupSafe>=2.0 in c:\\programdata\\anaconda3\\lib\\site-packages (from Jinja2>=3.1.2->flask) (2.1.3)\n",
      "Note: you may need to restart the kernel to use updated packages.\n"
     ]
    }
   ],
   "source": [
    "pip install flask "
   ]
  },
  {
   "cell_type": "code",
   "execution_count": 2,
   "id": "b8d4d0e3",
   "metadata": {},
   "outputs": [],
   "source": [
    "from __future__ import annotations\n",
    "import math\n",
    "from flask import Flask, render_template_string, request"
   ]
  },
  {
   "cell_type": "markdown",
   "id": "d8fd0c12",
   "metadata": {},
   "source": [
    "\n",
    "##  **Key Features**\n",
    "\n",
    "###  Scientific Capabilities:\n",
    "- Trigonometric : 'sin(x)', 'cos(x)', 'tan(x)'\n",
    "- Logarithmic : 'log(x)'\n",
    "- Exponential : 'exp(x)', '^' (power)\n",
    "- Root : 'sqrt(x)'\n",
    "- Constants : 'pi', 'e'\n",
    "- Operators : '+', '-', '*', '/', '%', '^', '()'  \n",
    "\n",
    "###  Secure Expression Evaluation:\n",
    "- Expressions are parsed and safely evaluated using only 'math' module functions.\n",
    "- Built-in functions or other Python code execution is **blocked**.\n",
    "\n",
    "###  Keyboard Support:\n",
    "- Use numbers and operators directly from the keyboard.\n",
    "- Press 'Enter' to evaluate.\n",
    "- Backspace' to delete characters.\n"
   ]
  },
  {
   "cell_type": "code",
   "execution_count": 3,
   "id": "7f27eb18",
   "metadata": {},
   "outputs": [],
   "source": [
    "app = Flask(__name__)\n",
    "authorized_names: dict[str, object] = {\n",
    "    name: getattr(math, name) for name in dir(math) if not name.startswith(\"__\")\n",
    "}\n",
    "authorized_names.update({\n",
    "    \"sin\": math.sin,\n",
    "    \"cos\": math.cos,\n",
    "    \"tan\": math.tan,\n",
    "    \"log\": math.log,\n",
    "    \"sqrt\": math.sqrt,\n",
    "    \"pi\": math.pi,\n",
    "    \"e\": math.e,\n",
    "})"
   ]
  },
  {
   "cell_type": "code",
   "execution_count": 4,
   "id": "055fa609",
   "metadata": {},
   "outputs": [],
   "source": [
    "def safe_eval(expr: str) -> float:\n",
    "    \"\"\"Evaluate *expr* using only math‑module names defined above.\"\"\"\n",
    "    return eval(expr, {\"__builtins__\": {}}, authorized_names)\n"
   ]
  },
  {
   "cell_type": "markdown",
   "id": "37191382",
   "metadata": {},
   "source": [
    " **Note:** The HTML string contains all the calculator layout, style, and JavaScript needed for keyboard support. It uses render_template_string() to serve it directly.\n",
    "   "
   ]
  },
  {
   "cell_type": "code",
   "execution_count": 5,
   "id": "8b1980dc",
   "metadata": {},
   "outputs": [
    {
     "name": "stderr",
     "output_type": "stream",
     "text": [
      "<>:1: SyntaxWarning: invalid escape sequence '\\-'\n",
      "<>:1: SyntaxWarning: invalid escape sequence '\\-'\n",
      "C:\\Users\\Asus\\AppData\\Local\\Temp\\ipykernel_12220\\3411441451.py:1: SyntaxWarning: invalid escape sequence '\\-'\n",
      "  HTML_TEMPLATE: str = \"\"\"<!DOCTYPE html>\n"
     ]
    }
   ],
   "source": [
    "HTML_TEMPLATE: str = \"\"\"<!DOCTYPE html>\n",
    "<html lang=\\\"en\\\">\n",
    "<head>\n",
    "<meta charset=\\\"UTF-8\\\">\n",
    "<meta name=\\\"viewport\\\" content=\\\"width=device-width,initial-scale=1\\\">\n",
    "<title>Scientific Calculator</title>\n",
    "<style>\n",
    "  :root{--bg:#202124;--card:#2d2f31;--btn:#3c4043;--btn-alt:#8ab4f8;--green:#34a853;--red:#ea4335;--text:#fff;}\n",
    "  *{box-sizing:border-box;font-family:system-ui,Segoe UI,Roboto,Helvetica,Arial,sans-serif}\n",
    "  body{margin:0;display:flex;justify-content:center;align-items:center;height:100vh;background:var(--bg);color:var(--text);}\n",
    "  #calc{width:auto;padding:20px;background:var(--card);border-radius:16px;box-shadow:0 8px 20px rgba(0,0,0,.55);}\n",
    "  #display{width:100%;height:70px;font-size:34px;text-align:right;padding:10px 14px;margin-bottom:14px;border:0;border-radius:12px;background:var(--bg);color:var(--text);outline:none;}\n",
    "  .row{display:flex;justify-content:space-between;}\n",
    "  button{flex:1;margin:4px;height:40px;font-size:20px;border:0;border-radius:20em;background:var(--btn);color:var(--text);cursor:pointer;transition:transform .1s;}\n",
    "  button.operator{background:var(--btn-alt);color:#000;}\n",
    "  button.equal{background:var(--green);}button.clear{background:var(--red);}button:active{transform:scale(.97);}  \n",
    "</style>\n",
    "</head>\n",
    "<body>\n",
    "  <form id=\\\"form\\\" method=\\\"POST\\\" autocomplete=\\\"off\\\">\n",
    "    <div id=\\\"calc\\\">\n",
    "      <input id=\\\"display\\\" name=\\\"expression\\\" value=\\\"{{ expression }}\\\" autofocus>\n",
    "      {% for r in buttons %}\n",
    "      <div class=\\\"row\\\">\n",
    "        {% for lbl in r %}\n",
    "          {% set cls = (lbl in operators) and 'operator' or '' %}\n",
    "          {% set cls = (lbl=='=') and 'equal' or cls %}\n",
    "          {% set cls = (lbl=='C') and 'clear' or cls %}\n",
    "          <button type=\\\"button\\\" class=\\\"{{ cls }}\\\" onclick=\\\"press('{{ lbl }}')\\\">{{ lbl }}</button>\n",
    "        {% endfor %}\n",
    "      </div>\n",
    "      {% endfor %}\n",
    "      <input type=\\\"hidden\\\" id=\\\"btn\\\" name=\\\"btn\\\">\n",
    "    </div>\n",
    "  </form>\n",
    "<script>\n",
    "function press(v){document.getElementById('btn').value=v;document.getElementById('form').submit();}\n",
    "const allowed = /[0-9()+\\-*/.%^]/;\n",
    "document.addEventListener('keydown', e=>{\n",
    "  if(e.key==='Enter'){e.preventDefault();press('=');}\n",
    "  else if(e.key==='Backspace'){e.preventDefault();press('⌫');}\n",
    "  else if(allowed.test(e.key)){e.preventDefault();press(e.key);}  \n",
    "});\n",
    "</script>\n",
    "</body>\n",
    "</html>\"\"\""
   ]
  },
  {
   "cell_type": "code",
   "execution_count": 6,
   "id": "f66deabd",
   "metadata": {},
   "outputs": [],
   "source": [
    "BUTTON_ROWS: list[list[str]] = [\n",
    "    [\"AC\", \"(\", \")\", \"⌫\"],\n",
    "    [\"7\", \"8\", \"9\", \"/\"],\n",
    "    [\"4\", \"5\", \"6\", \"*\"],\n",
    "    [\"1\", \"2\", \"3\", \"-\"],\n",
    "    [\"0\", \".\", \"%\", \"+\"],\n",
    "    [\"pi\", \"e\", \"^\", \"sqrt(\"],\n",
    "    [\"sin(\", \"cos(\", \"tan(\", \"log(\"],\n",
    "    [\"exp(\", \"=\"]\n",
    "]\n",
    "\n",
    "OPERATORS = {\"+\",\"-\",\"*\",\"/\",\"%\",\"^\"}"
   ]
  },
  {
   "cell_type": "code",
   "execution_count": 7,
   "id": "d6a7ac6a",
   "metadata": {},
   "outputs": [],
   "source": [
    "@app.route(\"/\", methods=[\"GET\", \"POST\"])\n",
    "def calculator():\n",
    "    expression: str = request.form.get(\"expression\", \"\") if request.method == \"POST\" else \"\"\n",
    "    btn: str = request.form.get(\"btn\", \"\")\n",
    "\n",
    "    if btn == \"AC\":\n",
    "        expression = \"\"\n",
    "    elif btn == \"⌫\":\n",
    "        expression = expression[:-1]\n",
    "    elif btn and btn != \"=\":\n",
    "        expression += btn\n",
    "    elif btn == \"=\":\n",
    "        try:\n",
    "            calc_expr = expression.replace(\"^\", \"**\")\n",
    "            result = safe_eval(calc_expr)\n",
    "            expression = str(result)\n",
    "        except Exception:\n",
    "            expression = \"Error\"\n",
    "\n",
    "    return render_template_string(\n",
    "        HTML_TEMPLATE,\n",
    "        expression=expression,\n",
    "        buttons=BUTTON_ROWS,\n",
    "        operators=OPERATORS,\n",
    "    )"
   ]
  },
  {
   "cell_type": "code",
   "execution_count": 8,
   "id": "4f990a77",
   "metadata": {},
   "outputs": [
    {
     "name": "stdout",
     "output_type": "stream",
     "text": [
      " * Serving Flask app '__main__'\n",
      " * Debug mode: off\n"
     ]
    },
    {
     "name": "stderr",
     "output_type": "stream",
     "text": [
      "WARNING: This is a development server. Do not use it in a production deployment. Use a production WSGI server instead.\n",
      " * Running on http://127.0.0.1:8080\n",
      "Press CTRL+C to quit\n",
      "127.0.0.1 - - [17/Jul/2025 07:34:10] \"GET / HTTP/1.1\" 200 -\n",
      "127.0.0.1 - - [17/Jul/2025 07:34:10] \"GET /favicon.ico HTTP/1.1\" 404 -\n"
     ]
    }
   ],
   "source": [
    "\n",
    "\n",
    "import threading\n",
    "\n",
    "def run_app():\n",
    "    app.run(debug=False, use_reloader=False, port=8080)\n",
    "\n",
    "threading.Thread(target=run_app).start()\n",
    "\n",
    "# Run the app (this will show you a public link to open the calculator)\n"
   ]
  },
  {
   "cell_type": "markdown",
   "id": "e8961d58",
   "metadata": {},
   "source": [
    "  ### **Conclusion**\n",
    "  - Built a working scientific calculator using Flask.\n",
    "    \n",
    "  - Implemented basic and advanced math operations.\n",
    "\n",
    "  - Ensured safety using restricted eval. \n",
    "    \n",
    "  - Added support for keyboard input and responsive UI."
   ]
  },
  {
   "cell_type": "markdown",
   "id": "429d7d61",
   "metadata": {},
   "source": [
    "\n",
    "### ***References***\n",
    "\n",
    "- [Flask Documentation](https://flask.palletsprojects.com/)\n",
    "- [Python math Module](https://docs.python.org/3/library/math.html)\n",
    "- JavaScript Keyboard Events - chat GPT"
   ]
  }
 ],
 "metadata": {
  "kernelspec": {
   "display_name": "base",
   "language": "python",
   "name": "python3"
  },
  "language_info": {
   "codemirror_mode": {
    "name": "ipython",
    "version": 3
   },
   "file_extension": ".py",
   "mimetype": "text/x-python",
   "name": "python",
   "nbconvert_exporter": "python",
   "pygments_lexer": "ipython3",
   "version": "3.12.7"
  }
 },
 "nbformat": 4,
 "nbformat_minor": 5
}
